{
 "cells": [
  {
   "cell_type": "code",
   "execution_count": 1,
   "metadata": {},
   "outputs": [
    {
     "name": "stdout",
     "output_type": "stream",
     "text": [
      "Database load successefuly from  ./arxiv_local/arxiv.db  and contains 1125 elements\n",
      "Download path set to  ./arxiv_local/downloads/\n"
     ]
    }
   ],
   "source": [
    "from arxiv_lib import ArxivArxiv\n",
    "arxiv_test = ArxivArxiv()"
   ]
  },
  {
   "cell_type": "code",
   "execution_count": 2,
   "metadata": {},
   "outputs": [
    {
     "name": "stderr",
     "output_type": "stream",
     "text": [
      "  0%|          | 0/44 [00:00<?, ?it/s]"
     ]
    },
    {
     "name": "stdout",
     "output_type": "stream",
     "text": [
      "File ./articles_export_19.11.2020.html successefuly loaded.\n",
      "Make 44 queries to arxiv.org. Can take a while...\n"
     ]
    },
    {
     "name": "stderr",
     "output_type": "stream",
     "text": [
      "100%|██████████| 44/44 [00:47<00:00,  1.08s/it]"
     ]
    },
    {
     "name": "stdout",
     "output_type": "stream",
     "text": [
      "Something went wrong during queries. 0% of articles is missing\n",
      "[Debug] ID_list length: 44, Query length: 44\n",
      "Queried: ['2009.14487v1', '2004.11362v3', '2004.09576v1', '2009.14385v1', '2009.01675v2', '2004.04433v3', '2010.00525v2', '2010.10687v1', '2011.02785v1', '2007.01682v1', '1911.11759v4', '2010.10604v1', '2010.00567v1', '2002.02342v3', '2006.07710v2', '1811.09347v2', '2007.01378v1', '2009.14410v2', '2010.14819v1', '2005.11035v4', '2007.02798v3', '1912.06798v3', '2009.14416v1', '2010.07810v1', '2010.00578v4', '2011.02803v1', '2009.14237v1', '2010.07468v2', '2010.09931v1', '1905.11437v1', '2010.00029v3', '2010.15487v1', '2006.02361v3', '2007.01524v2', '2005.00695v2', '2004.12399v2', '2009.14441v1', '2010.00400v2', '2009.14788v1', '2006.11161v4', '2001.09219v4', '2007.01476v2', '2011.02956v1', '1902.08153v3']\n",
      "Full: ['2009.14487', '2004.11362', '2004.09576', '2009.14385', '2009.01675', '2004.04433', '2010.00525', '2010.10687', '2011.02785', '2007.01682', '1911.11759', '2010.10604', '2010.00567', '2002.02342', '2006.07710', '1811.09347', '2007.01378', '2009.14410', '2010.14819', '2005.11035', '2007.02798', '1912.06798', '2009.14416', '2010.07810', '2010.00578', '2011.02803', '2009.14237', '2010.07468', '2010.09931', '1905.11437', '2010.00029', '2010.15487', '2006.02361', '2007.01524', '2005.00695', '2004.12399', '2009.14441', '2010.00400', '2009.14788', '2006.11161', '2001.09219', '2007.01476', '2011.02956', '1902.08153']\n",
      "Adding to exiting database... Done.\n",
      "Database was saved in  ./arxiv_local/arxiv.db\n"
     ]
    },
    {
     "name": "stderr",
     "output_type": "stream",
     "text": [
      "\n"
     ]
    }
   ],
   "source": [
    "arxiv_test.import_from_file('./articles_export_19.11.2020.html')"
   ]
  },
  {
   "cell_type": "code",
   "execution_count": 3,
   "metadata": {},
   "outputs": [
    {
     "name": "stderr",
     "output_type": "stream",
     "text": [
      "  1%|          | 11/1169 [00:00<00:10, 109.80it/s]"
     ]
    },
    {
     "name": "stdout",
     "output_type": "stream",
     "text": [
      "Checking download path...\n",
      "[Debug] Existing articles number:  1373\n",
      "Checking existing articles on coincidence...\n"
     ]
    },
    {
     "name": "stderr",
     "output_type": "stream",
     "text": [
      " 10%|█         | 120/1169 [00:00<00:08, 124.21it/s]"
     ]
    },
    {
     "name": "stdout",
     "output_type": "stream",
     "text": [
      "Article:  The Tsetlin Machine - A Game Theoretic Bandit Driven Approach to Optimal  Pattern Recognition with Propositional Logic  - old version: 1 , new version:  11\n"
     ]
    },
    {
     "name": "stderr",
     "output_type": "stream",
     "text": [
      "100%|██████████| 1169/1169 [00:09<00:00, 128.21it/s]"
     ]
    },
    {
     "name": "stdout",
     "output_type": "stream",
     "text": [
      "Checking finished. 45 articles ready for download!\n"
     ]
    },
    {
     "name": "stderr",
     "output_type": "stream",
     "text": [
      "\n"
     ]
    }
   ],
   "source": [
    "arxiv_test.prepare_for_download()"
   ]
  },
  {
   "cell_type": "code",
   "execution_count": 4,
   "metadata": {},
   "outputs": [
    {
     "name": "stderr",
     "output_type": "stream",
     "text": [
      "  0%|          | 0/45 [00:00<?, ?it/s]"
     ]
    },
    {
     "name": "stdout",
     "output_type": "stream",
     "text": [
      "Download started...\n"
     ]
    },
    {
     "name": "stderr",
     "output_type": "stream",
     "text": [
      "100%|██████████| 45/45 [08:42<00:00, 11.61s/it]"
     ]
    },
    {
     "name": "stdout",
     "output_type": "stream",
     "text": [
      "Download finished!\n"
     ]
    },
    {
     "name": "stderr",
     "output_type": "stream",
     "text": [
      "\n"
     ]
    }
   ],
   "source": [
    "arxiv_test.download(slugify=lambda obj: obj['title'])"
   ]
  },
  {
   "cell_type": "code",
   "execution_count": 5,
   "metadata": {},
   "outputs": [
    {
     "data": {
      "text/plain": [
       "[{'pdf_url': 'http://arxiv.org/pdf/1804.01508v11',\n",
       "  'title': 'Granmo, O., (2018v1). The Tsetlin Machine - A Game Theoretic Bandit Driven Approach to Optimal  Pattern Recognition with Propositional Logic'},\n",
       " {'pdf_url': 'http://arxiv.org/pdf/2009.14487v1',\n",
       "  'title': 'Akbarinia, A., Gil-Rodríguez, R., Toscani, M., etc. (2020v1). The Utility of Decorrelating Colour Spaces in Vector Quantised  Variational Autoencoders'},\n",
       " {'pdf_url': 'http://arxiv.org/pdf/2004.11362v3',\n",
       "  'title': 'Khosla, P., Teterwak, P., Krishnan, D., etc. (2020v3). Supervised Contrastive Learning'},\n",
       " {'pdf_url': 'http://arxiv.org/pdf/2004.09576v1',\n",
       "  'title': 'Bhalgat, Y., Lee, J., Kwak, N., etc. (2020v1). LSQ+. Improving low-bit quantization through learnable offsets and  better initialization'},\n",
       " {'pdf_url': 'http://arxiv.org/pdf/2009.14385v1',\n",
       "  'title': 'Wong, A., Famouri, M., Shafiee, M., etc. (2020v1). AttendNets. Tiny Deep Image Recognition Neural Networks for the Edge via  Visual Attention Condensers'},\n",
       " {'pdf_url': 'http://arxiv.org/pdf/2009.01675v2',\n",
       "  'title': 'Wang, Z., Delingette, H., (2020v2). Quasi-symplectic Langevin Variational Autoencoder'},\n",
       " {'pdf_url': 'http://arxiv.org/pdf/2004.04433v3',\n",
       "  'title': 'Bühler, M., Romero, A., Timofte, R., etc. (2020v3). DeepSEE. Deep Disentangled Semantic Explorative Extreme Super-Resolution'},\n",
       " {'pdf_url': 'http://arxiv.org/pdf/2010.00525v2',\n",
       "  'title': 'Lipshutz, D., Bahroun, Y., Chklovskii, D., etc. (2020v2). A biologically plausible neural network for multi-channel Canonical  Correlation Analysis'},\n",
       " {'pdf_url': 'http://arxiv.org/pdf/2010.10687v1',\n",
       "  'title': 'Rao, V., Sohl-Dickstein, J., (2020v1). Is Batch Norm unique? An empirical investigation and prescription to  emulate the best properties of common normalizers without batch dependence'},\n",
       " {'pdf_url': 'http://arxiv.org/pdf/2011.02785v1',\n",
       "  'title': 'Zhang, D., Li, Y., Zhang, Z., etc. (2020v1). Deep Metric Learning with Spherical Embedding'},\n",
       " {'pdf_url': 'http://arxiv.org/pdf/2007.01682v1',\n",
       "  'title': 'Guo, D., Tian, M., Chen, S., etc. (2020v1). Improving auto-encoder novelty detection using channel attention and  entropy minimization'},\n",
       " {'pdf_url': 'http://arxiv.org/pdf/1911.11759v4',\n",
       "  'title': 'Gu, X., Luo, W., Lee, Y., etc. (2019v4). Password-conditioned Anonymization and Deanonymization with Face  Identity Transformers'},\n",
       " {'pdf_url': 'http://arxiv.org/pdf/2010.10604v1',\n",
       "  'title': 'Fan, X., Zhang, S., Zhou, M., etc. (2020v1). Bayesian Attention Modules'},\n",
       " {'pdf_url': 'http://arxiv.org/pdf/2010.00567v1',\n",
       "  'title': 'Fawaz, H., (2020v1). Deep learning for time series classification'},\n",
       " {'pdf_url': 'http://arxiv.org/pdf/2002.02342v3',\n",
       "  'title': 'Luo, X., Roads, B., Love, B., etc. (2020v3). The Costs and Benefits of Goal-Directed Attention in Deep Convolutional  Neural Networks'},\n",
       " {'pdf_url': 'http://arxiv.org/pdf/2006.07710v2',\n",
       "  'title': 'Shah, H., Tamuly, K., Netrapalli, P., etc. (2020v2). The Pitfalls of Simplicity Bias in Neural Networks'},\n",
       " {'pdf_url': 'http://arxiv.org/pdf/1811.09347v2',\n",
       "  'title': 'Cheng, B., Wei, Y., Shi, H., etc. (2018v2). A Simple Non-i.i.d. Sampling Approach for Efficient Training and Better  Generalization'},\n",
       " {'pdf_url': 'http://arxiv.org/pdf/2007.01378v1',\n",
       "  'title': 'Perl, Y., Boccacio, H., Tagliazucchi, E., etc. (2020v1). Generative embeddings of brain collective dynamics using variational  autoencoders'},\n",
       " {'pdf_url': 'http://arxiv.org/pdf/2009.14410v2',\n",
       "  'title': 'Meng, F., Cheng, H., Sun, X., etc. (2020v2). Pruning Filter in Filter'},\n",
       " {'pdf_url': 'http://arxiv.org/pdf/2010.14819v1',\n",
       "  'title': \"Han, K., Wang, Y., Zhang, T., etc. (2020v1). Model Rubik's Cube. Twisting Resolution, Depth and Width for TinyNets\"},\n",
       " {'pdf_url': 'http://arxiv.org/pdf/2005.11035v4',\n",
       "  'title': 'Kim, J., Yoo, K., Kwak, N., etc. (2020v4). Position-based Scaled Gradient for Model Quantization and Pruning'},\n",
       " {'pdf_url': 'http://arxiv.org/pdf/2007.02798v3',\n",
       "  'title': 'Bond-Taylor, S., Willcocks, C., (2020v3). Gradient Origin Networks'},\n",
       " {'pdf_url': 'http://arxiv.org/pdf/1912.06798v3',\n",
       "  'title': 'Wang, X., Zhang, H., Scott, M., etc. (2019v3). Cross-Batch Memory for Embedding Learning'},\n",
       " {'pdf_url': 'http://arxiv.org/pdf/2009.14416v1',\n",
       "  'title': 'Qian, Q., Li, H., Hu, J., etc. (2020v1). Efficient Kernel Transfer in Knowledge Distillation'},\n",
       " {'pdf_url': 'http://arxiv.org/pdf/2010.07810v1',\n",
       "  'title': 'Merchant, A., Zoph, B., Cubuk, E., etc. (2020v1). Does Data Augmentation Benefit from Split BatchNorms'},\n",
       " {'pdf_url': 'http://arxiv.org/pdf/2010.00578v4',\n",
       "  'title': 'Tian, Y., Yu, L., Ganguli, S., etc. (2020v4). Understanding Self-supervised Learning with Dual Deep Networks'},\n",
       " {'pdf_url': 'http://arxiv.org/pdf/2011.02803v1',\n",
       "  'title': 'Chen, T., Li, L., (2020v1). Intriguing Properties of Contrastive Losses'},\n",
       " {'pdf_url': 'http://arxiv.org/pdf/2009.14237v1',\n",
       "  'title': 'Head, A., Lo, K., Hearst, M., etc. (2020v1). Augmenting Scientific Papers with Just-in-Time, Position-Sensitive  Definitions of Terms and Symbols'},\n",
       " {'pdf_url': 'http://arxiv.org/pdf/2010.07468v2',\n",
       "  'title': 'Zhuang, J., Tang, T., Duncan, J., etc. (2020v2). AdaBelief Optimizer. Adapting Stepsizes by the Belief in Observed  Gradients'},\n",
       " {'pdf_url': 'http://arxiv.org/pdf/2010.09931v1',\n",
       "  'title': 'Shamir, G., Lin, D., Coviello, L., etc. (2020v1). Smooth activations and reproducibility in deep networks'},\n",
       " {'pdf_url': 'http://arxiv.org/pdf/1905.11437v1',\n",
       "  'title': 'Silva, L., Elnabarawy, I., II, D., etc. (2019v1). A Survey of Adaptive Resonance Theory Neural Network Models for  Engineering Applications'},\n",
       " {'pdf_url': 'http://arxiv.org/pdf/2010.00029v3',\n",
       "  'title': 'Hu, H., Wu, D., Chen, Y., etc. (2020v3). RG-Flow. A hierarchical and explainable flow model based on  renormalization group and sparse prior'},\n",
       " {'pdf_url': 'http://arxiv.org/pdf/2010.15487v1',\n",
       "  'title': 'Ali, A., Migliorati, A., Magli, E., etc. (2020v1). Beyond cross-entropy. learning highly separable feature distributions  for robust and accurate classification'},\n",
       " {'pdf_url': 'http://arxiv.org/pdf/2006.02361v3',\n",
       "  'title': 'Dogra, A., Redman, W., (2020v3). Optimizing Neural Networks via Koopman Operator Theory'},\n",
       " {'pdf_url': 'http://arxiv.org/pdf/2007.01524v2',\n",
       "  'title': 'Kim, Y., Hong, S., Panda, P., etc. (2020v2). Domain Adaptation without Source Data'},\n",
       " {'pdf_url': 'http://arxiv.org/pdf/2005.00695v2',\n",
       "  'title': 'Wu, S., Zhang, H., Ré, C., etc. (2020v2). On the Generalization Effects of Linear Transformations in Data  Augmentation'},\n",
       " {'pdf_url': 'http://arxiv.org/pdf/2004.12399v2',\n",
       "  'title': 'Chen, J., (2020v2). Reinforcement Learning Generalization with Surprise Minimization'},\n",
       " {'pdf_url': 'http://arxiv.org/pdf/2009.14441v1',\n",
       "  'title': 'Deutsch, S., Soatto, S., (2020v1). Spectral Embedding of Graph Networks'},\n",
       " {'pdf_url': 'http://arxiv.org/pdf/2010.00400v2',\n",
       "  'title': 'Hernandez-Ortega, J., Tolosana, R., Morales, A., etc. (2020v2). DeepFakesON-Phys. DeepFakes Detection based on Heart Rate Estimation'},\n",
       " {'pdf_url': 'http://arxiv.org/pdf/2009.14788v1',\n",
       "  'title': 'Ronchetti, M., (2020v1). TorchRadon. Fast Differentiable Routines for Computed Tomography'},\n",
       " {'pdf_url': 'http://arxiv.org/pdf/2006.11161v4',\n",
       "  'title': 'Chadha, A., Britto, J., Roja, M., etc. (2020v4). iSeeBetter. Spatio-temporal video super-resolution using recurrent  generative back-projection networks'},\n",
       " {'pdf_url': 'http://arxiv.org/pdf/2001.09219v4',\n",
       "  'title': 'Ghai, B., Liao, Q., Mueller, K., etc. (2020v4). Explainable Active Learning (XAL). An Empirical Study of How Local  Explanations Impact Annotator Experience'},\n",
       " {'pdf_url': 'http://arxiv.org/pdf/2007.01476v2',\n",
       "  'title': 'Fu, S., Li, Z., Yang, X., etc. (2020v2). Interactive Knowledge Distillation'},\n",
       " {'pdf_url': 'http://arxiv.org/pdf/2011.02956v1',\n",
       "  'title': 'Peer, D., Stabinger, S., Rodriguez-Sanchez, A., etc. (2020v1). Conflicting Bundles. Adapting Architectures Towards the Improved  Training of Deep Neural Networks'},\n",
       " {'pdf_url': 'http://arxiv.org/pdf/1902.08153v3',\n",
       "  'title': 'Esser, S., McKinstry, J., Modha, D., etc. (2019v3). Learned Step Size Quantization'}]"
      ]
     },
     "execution_count": 5,
     "metadata": {},
     "output_type": "execute_result"
    }
   ],
   "source": [
    "arxiv_test.to_download"
   ]
  },
  {
   "cell_type": "code",
   "execution_count": null,
   "metadata": {},
   "outputs": [],
   "source": []
  },
  {
   "cell_type": "code",
   "execution_count": null,
   "metadata": {},
   "outputs": [],
   "source": []
  }
 ],
 "metadata": {
  "kernelspec": {
   "display_name": "Python 3",
   "language": "python",
   "name": "python3"
  },
  "language_info": {
   "codemirror_mode": {
    "name": "ipython",
    "version": 3
   },
   "file_extension": ".py",
   "mimetype": "text/x-python",
   "name": "python",
   "nbconvert_exporter": "python",
   "pygments_lexer": "ipython3",
   "version": "3.7.6"
  },
  "latex_envs": {
   "LaTeX_envs_menu_present": true,
   "autoclose": false,
   "autocomplete": true,
   "bibliofile": "biblio.bib",
   "cite_by": "apalike",
   "current_citInitial": 1,
   "eqLabelWithNumbers": true,
   "eqNumInitial": 1,
   "hotkeys": {
    "equation": "Ctrl-E",
    "itemize": "Ctrl-I"
   },
   "labels_anchors": false,
   "latex_user_defs": false,
   "report_style_numbering": false,
   "user_envs_cfg": false
  },
  "nbTranslate": {
   "displayLangs": [
    "*"
   ],
   "hotkey": "alt-t",
   "langInMainMenu": true,
   "sourceLang": "en",
   "targetLang": "fr",
   "useGoogleTranslate": true
  },
  "varInspector": {
   "cols": {
    "lenName": 16,
    "lenType": 16,
    "lenVar": 40
   },
   "kernels_config": {
    "python": {
     "delete_cmd_postfix": "",
     "delete_cmd_prefix": "del ",
     "library": "var_list.py",
     "varRefreshCmd": "print(var_dic_list())"
    },
    "r": {
     "delete_cmd_postfix": ") ",
     "delete_cmd_prefix": "rm(",
     "library": "var_list.r",
     "varRefreshCmd": "cat(var_dic_list()) "
    }
   },
   "types_to_exclude": [
    "module",
    "function",
    "builtin_function_or_method",
    "instance",
    "_Feature"
   ],
   "window_display": false
  }
 },
 "nbformat": 4,
 "nbformat_minor": 4
}
